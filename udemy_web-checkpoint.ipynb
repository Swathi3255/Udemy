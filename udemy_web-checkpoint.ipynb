{
 "cells": [
  {
   "cell_type": "code",
   "execution_count": 34,
   "metadata": {},
   "outputs": [],
   "source": [
    "#Scraping Udemy: find the top best courses\n",
    "import pandas as pd\n",
    "import numpy as np\n",
    "%matplotlib inline\n",
    "from matplotlib import pyplot as plt\n",
    "plt.style.use('ggplot')"
   ]
  },
  {
   "cell_type": "code",
   "execution_count": 35,
   "metadata": {},
   "outputs": [
    {
     "name": "stdout",
     "output_type": "stream",
     "text": [
      "                       0                        1                    2\n",
      "0           Development             Data Science      Machine Learning\n",
      "1           Development    Programming Languages                Python\n",
      "2           Development           Web Development                  NaN\n",
      "3           Development             Data Science                Python\n",
      "4           Development    Programming Languages                  Java\n",
      "...                  ...                      ...                  ...\n",
      "44060  Health & Fitness                 Nutrition                  NaN\n",
      "44061  Health & Fitness           General Health                 Sleep\n",
      "44062  Health & Fitness       Safety & First Aid    Addiction Recovery\n",
      "44063  Health & Fitness       Safety & First Aid    Addiction Recovery\n",
      "44064  Health & Fitness                      Yoga                  NaN\n",
      "\n",
      "[44065 rows x 3 columns]\n"
     ]
    }
   ],
   "source": [
    "df=pd.read_csv(\"C:/Users/Swaki2/Desktop/NYCDSA/PYTHON/Webscraping/final/Udemy/out.csv\")\n",
    "df.head()\n",
    "foo = lambda x: pd.Series([i for i in (x.split('>'))])\n",
    "rev = df['Category'].apply(foo)\n",
    "print(rev)"
   ]
  },
  {
   "cell_type": "code",
   "execution_count": null,
   "metadata": {},
   "outputs": [],
   "source": [
    "#df[[\"Category\", \"Sector\", \"Language\"]] = df[\"Category\"].str.split(pat=\">\", expand=True)"
   ]
  },
  {
   "cell_type": "code",
   "execution_count": 36,
   "metadata": {},
   "outputs": [
    {
     "name": "stdout",
     "output_type": "stream",
     "text": [
      "                  Sector                    Field             Language\n",
      "0           Development             Data Science      Machine Learning\n",
      "1           Development    Programming Languages                Python\n",
      "2           Development           Web Development                  NaN\n",
      "3           Development             Data Science                Python\n",
      "4           Development    Programming Languages                  Java\n",
      "...                  ...                      ...                  ...\n",
      "44060  Health & Fitness                 Nutrition                  NaN\n",
      "44061  Health & Fitness           General Health                 Sleep\n",
      "44062  Health & Fitness       Safety & First Aid    Addiction Recovery\n",
      "44063  Health & Fitness       Safety & First Aid    Addiction Recovery\n",
      "44064  Health & Fitness                      Yoga                  NaN\n",
      "\n",
      "[44065 rows x 3 columns]\n"
     ]
    }
   ],
   "source": [
    "rev.rename(columns={0:'Sector',1:'Field',2:'Language'},inplace=True)\n",
    "rev = rev[['Sector','Field','Language']]\n",
    "print (rev)"
   ]
  },
  {
   "cell_type": "code",
   "execution_count": 37,
   "metadata": {},
   "outputs": [
    {
     "data": {
      "text/plain": [
       "Best_Seller       object\n",
       "Category          object\n",
       "Course_Name       object\n",
       "Instructor        object\n",
       "Lecture_Hours    float64\n",
       "Price            float64\n",
       "Rating             int64\n",
       "Star             float64\n",
       "Students          object\n",
       "Url               object\n",
       "Sector            object\n",
       "Field             object\n",
       "Language          object\n",
       "dtype: object"
      ]
     },
     "execution_count": 37,
     "metadata": {},
     "output_type": "execute_result"
    }
   ],
   "source": [
    "type(rev)\n",
    "df = pd.concat([df, rev], axis=1)\n",
    "df.dtypes"
   ]
  },
  {
   "cell_type": "code",
   "execution_count": 59,
   "metadata": {},
   "outputs": [
    {
     "data": {
      "text/html": [
       "<div>\n",
       "<style scoped>\n",
       "    .dataframe tbody tr th:only-of-type {\n",
       "        vertical-align: middle;\n",
       "    }\n",
       "\n",
       "    .dataframe tbody tr th {\n",
       "        vertical-align: top;\n",
       "    }\n",
       "\n",
       "    .dataframe thead th {\n",
       "        text-align: right;\n",
       "    }\n",
       "</style>\n",
       "<table border=\"1\" class=\"dataframe\">\n",
       "  <thead>\n",
       "    <tr style=\"text-align: right;\">\n",
       "      <th></th>\n",
       "      <th>Best_Seller</th>\n",
       "      <th>Category</th>\n",
       "      <th>Course_Name</th>\n",
       "      <th>Instructor</th>\n",
       "      <th>Lecture_Hours</th>\n",
       "      <th>Price</th>\n",
       "      <th>Rating</th>\n",
       "      <th>Star</th>\n",
       "      <th>Students</th>\n",
       "      <th>Url</th>\n",
       "      <th>Sector</th>\n",
       "      <th>Field</th>\n",
       "      <th>Language</th>\n",
       "    </tr>\n",
       "  </thead>\n",
       "  <tbody>\n",
       "    <tr>\n",
       "      <td>0</td>\n",
       "      <td>Not_Best_Seller</td>\n",
       "      <td>Development &gt; Data Science &gt; Machine Learning</td>\n",
       "      <td>Python for Data Science and Machine Learning B...</td>\n",
       "      <td>Jose Portilla</td>\n",
       "      <td>22.0</td>\n",
       "      <td>NaN</td>\n",
       "      <td>97631</td>\n",
       "      <td>4.6</td>\n",
       "      <td>436086.0</td>\n",
       "      <td>https://www.udemy.com/course/python-for-data-s...</td>\n",
       "      <td>Development</td>\n",
       "      <td>Data Science</td>\n",
       "      <td>Machine Learning</td>\n",
       "    </tr>\n",
       "    <tr>\n",
       "      <td>1</td>\n",
       "      <td>Bestseller</td>\n",
       "      <td>Development &gt; Programming Languages &gt; Python</td>\n",
       "      <td>2021 Complete Python Bootcamp From Zero to Her...</td>\n",
       "      <td>Jose Portilla</td>\n",
       "      <td>44.0</td>\n",
       "      <td>NaN</td>\n",
       "      <td>354718</td>\n",
       "      <td>4.6</td>\n",
       "      <td>1252743.0</td>\n",
       "      <td>https://www.udemy.com/course/complete-python-b...</td>\n",
       "      <td>Development</td>\n",
       "      <td>Programming Languages</td>\n",
       "      <td>Python</td>\n",
       "    </tr>\n",
       "    <tr>\n",
       "      <td>2</td>\n",
       "      <td>Not_Best_Seller</td>\n",
       "      <td>Development &gt; Web Development</td>\n",
       "      <td>The Web Developer Bootcamp 2021</td>\n",
       "      <td>Colt Steele</td>\n",
       "      <td>55.0</td>\n",
       "      <td>NaN</td>\n",
       "      <td>200236</td>\n",
       "      <td>4.7</td>\n",
       "      <td>656895.0</td>\n",
       "      <td>https://www.udemy.com/course/the-web-developer...</td>\n",
       "      <td>Development</td>\n",
       "      <td>Web Development</td>\n",
       "      <td>NaN</td>\n",
       "    </tr>\n",
       "    <tr>\n",
       "      <td>3</td>\n",
       "      <td>Bestseller</td>\n",
       "      <td>Development &gt; Data Science &gt; Python</td>\n",
       "      <td>Machine Learning A-Z™: Hands-On Python &amp; R In ...</td>\n",
       "      <td>Kirill Eremenko</td>\n",
       "      <td>63.0</td>\n",
       "      <td>NaN</td>\n",
       "      <td>143143</td>\n",
       "      <td>4.5</td>\n",
       "      <td>756122.0</td>\n",
       "      <td>https://www.udemy.com/course/machinelearning/</td>\n",
       "      <td>Development</td>\n",
       "      <td>Data Science</td>\n",
       "      <td>Python</td>\n",
       "    </tr>\n",
       "    <tr>\n",
       "      <td>4</td>\n",
       "      <td>Bestseller</td>\n",
       "      <td>Development &gt; Programming Languages &gt; Java</td>\n",
       "      <td>Java Programming Masterclass for Software Deve...</td>\n",
       "      <td>Tim Buchalka</td>\n",
       "      <td>34.0</td>\n",
       "      <td>NaN</td>\n",
       "      <td>136489</td>\n",
       "      <td>4.6</td>\n",
       "      <td>557548.0</td>\n",
       "      <td>https://www.udemy.com/course/java-the-complete...</td>\n",
       "      <td>Development</td>\n",
       "      <td>Programming Languages</td>\n",
       "      <td>Java</td>\n",
       "    </tr>\n",
       "  </tbody>\n",
       "</table>\n",
       "</div>"
      ],
      "text/plain": [
       "       Best_Seller                                       Category  \\\n",
       "0  Not_Best_Seller  Development > Data Science > Machine Learning   \n",
       "1       Bestseller   Development > Programming Languages > Python   \n",
       "2  Not_Best_Seller                  Development > Web Development   \n",
       "3       Bestseller            Development > Data Science > Python   \n",
       "4       Bestseller     Development > Programming Languages > Java   \n",
       "\n",
       "                                         Course_Name       Instructor  \\\n",
       "0  Python for Data Science and Machine Learning B...    Jose Portilla   \n",
       "1  2021 Complete Python Bootcamp From Zero to Her...    Jose Portilla   \n",
       "2                    The Web Developer Bootcamp 2021      Colt Steele   \n",
       "3  Machine Learning A-Z™: Hands-On Python & R In ...  Kirill Eremenko   \n",
       "4  Java Programming Masterclass for Software Deve...     Tim Buchalka   \n",
       "\n",
       "   Lecture_Hours  Price  Rating  Star   Students  \\\n",
       "0           22.0    NaN   97631   4.6   436086.0   \n",
       "1           44.0    NaN  354718   4.6  1252743.0   \n",
       "2           55.0    NaN  200236   4.7   656895.0   \n",
       "3           63.0    NaN  143143   4.5   756122.0   \n",
       "4           34.0    NaN  136489   4.6   557548.0   \n",
       "\n",
       "                                                 Url        Sector  \\\n",
       "0  https://www.udemy.com/course/python-for-data-s...  Development    \n",
       "1  https://www.udemy.com/course/complete-python-b...  Development    \n",
       "2  https://www.udemy.com/course/the-web-developer...  Development    \n",
       "3      https://www.udemy.com/course/machinelearning/  Development    \n",
       "4  https://www.udemy.com/course/java-the-complete...  Development    \n",
       "\n",
       "                     Field           Language  \n",
       "0            Data Science    Machine Learning  \n",
       "1   Programming Languages              Python  \n",
       "2          Web Development                NaN  \n",
       "3            Data Science              Python  \n",
       "4   Programming Languages                Java  "
      ]
     },
     "execution_count": 59,
     "metadata": {},
     "output_type": "execute_result"
    }
   ],
   "source": [
    "df['Students'] = df['Students'].str.replace(',', '').astype(float)\n",
    "df.head()"
   ]
  },
  {
   "cell_type": "code",
   "execution_count": 60,
   "metadata": {},
   "outputs": [
    {
     "data": {
      "text/plain": [
       "Best_Seller       object\n",
       "Category          object\n",
       "Course_Name       object\n",
       "Instructor        object\n",
       "Lecture_Hours    float64\n",
       "Price            float64\n",
       "Rating             int64\n",
       "Star             float64\n",
       "Students         float64\n",
       "Url               object\n",
       "Sector            object\n",
       "Field             object\n",
       "Language          object\n",
       "dtype: object"
      ]
     },
     "execution_count": 60,
     "metadata": {},
     "output_type": "execute_result"
    }
   ],
   "source": [
    "df.dtypes"
   ]
  },
  {
   "cell_type": "code",
   "execution_count": 61,
   "metadata": {},
   "outputs": [
    {
     "data": {
      "text/plain": [
       "['Best_Seller',\n",
       " 'Category',\n",
       " 'Course_Name',\n",
       " 'Instructor',\n",
       " 'Lecture_Hours',\n",
       " 'Price',\n",
       " 'Rating',\n",
       " 'Star',\n",
       " 'Students',\n",
       " 'Url',\n",
       " 'Sector',\n",
       " 'Field',\n",
       " 'Language']"
      ]
     },
     "execution_count": 61,
     "metadata": {},
     "output_type": "execute_result"
    }
   ],
   "source": [
    "df.columns.tolist()"
   ]
  },
  {
   "cell_type": "code",
   "execution_count": 62,
   "metadata": {},
   "outputs": [
    {
     "data": {
      "text/plain": [
       "(44065, 13)"
      ]
     },
     "execution_count": 62,
     "metadata": {},
     "output_type": "execute_result"
    }
   ],
   "source": [
    "df.shape"
   ]
  },
  {
   "cell_type": "code",
   "execution_count": 63,
   "metadata": {},
   "outputs": [
    {
     "data": {
      "text/html": [
       "<div>\n",
       "<style scoped>\n",
       "    .dataframe tbody tr th:only-of-type {\n",
       "        vertical-align: middle;\n",
       "    }\n",
       "\n",
       "    .dataframe tbody tr th {\n",
       "        vertical-align: top;\n",
       "    }\n",
       "\n",
       "    .dataframe thead th {\n",
       "        text-align: right;\n",
       "    }\n",
       "</style>\n",
       "<table border=\"1\" class=\"dataframe\">\n",
       "  <thead>\n",
       "    <tr style=\"text-align: right;\">\n",
       "      <th></th>\n",
       "      <th>Lecture_Hours</th>\n",
       "      <th>Price</th>\n",
       "      <th>Rating</th>\n",
       "      <th>Star</th>\n",
       "      <th>Students</th>\n",
       "    </tr>\n",
       "  </thead>\n",
       "  <tbody>\n",
       "    <tr>\n",
       "      <td>count</td>\n",
       "      <td>35279.000000</td>\n",
       "      <td>0.0</td>\n",
       "      <td>44065.000000</td>\n",
       "      <td>42158.000000</td>\n",
       "      <td>4.363900e+04</td>\n",
       "    </tr>\n",
       "    <tr>\n",
       "      <td>mean</td>\n",
       "      <td>4.708977</td>\n",
       "      <td>NaN</td>\n",
       "      <td>359.926722</td>\n",
       "      <td>3.971474</td>\n",
       "      <td>4.380926e+03</td>\n",
       "    </tr>\n",
       "    <tr>\n",
       "      <td>std</td>\n",
       "      <td>7.597153</td>\n",
       "      <td>NaN</td>\n",
       "      <td>3408.832225</td>\n",
       "      <td>1.008040</td>\n",
       "      <td>1.808224e+04</td>\n",
       "    </tr>\n",
       "    <tr>\n",
       "      <td>min</td>\n",
       "      <td>1.000000</td>\n",
       "      <td>NaN</td>\n",
       "      <td>0.000000</td>\n",
       "      <td>0.000000</td>\n",
       "      <td>0.000000e+00</td>\n",
       "    </tr>\n",
       "    <tr>\n",
       "      <td>25%</td>\n",
       "      <td>1.000000</td>\n",
       "      <td>NaN</td>\n",
       "      <td>9.000000</td>\n",
       "      <td>3.800000</td>\n",
       "      <td>8.800000e+01</td>\n",
       "    </tr>\n",
       "    <tr>\n",
       "      <td>50%</td>\n",
       "      <td>2.000000</td>\n",
       "      <td>NaN</td>\n",
       "      <td>31.000000</td>\n",
       "      <td>4.200000</td>\n",
       "      <td>5.870000e+02</td>\n",
       "    </tr>\n",
       "    <tr>\n",
       "      <td>75%</td>\n",
       "      <td>5.000000</td>\n",
       "      <td>NaN</td>\n",
       "      <td>115.000000</td>\n",
       "      <td>4.500000</td>\n",
       "      <td>2.796000e+03</td>\n",
       "    </tr>\n",
       "    <tr>\n",
       "      <td>max</td>\n",
       "      <td>175.000000</td>\n",
       "      <td>NaN</td>\n",
       "      <td>354718.000000</td>\n",
       "      <td>5.000000</td>\n",
       "      <td>1.252743e+06</td>\n",
       "    </tr>\n",
       "  </tbody>\n",
       "</table>\n",
       "</div>"
      ],
      "text/plain": [
       "       Lecture_Hours  Price         Rating          Star      Students\n",
       "count   35279.000000    0.0   44065.000000  42158.000000  4.363900e+04\n",
       "mean        4.708977    NaN     359.926722      3.971474  4.380926e+03\n",
       "std         7.597153    NaN    3408.832225      1.008040  1.808224e+04\n",
       "min         1.000000    NaN       0.000000      0.000000  0.000000e+00\n",
       "25%         1.000000    NaN       9.000000      3.800000  8.800000e+01\n",
       "50%         2.000000    NaN      31.000000      4.200000  5.870000e+02\n",
       "75%         5.000000    NaN     115.000000      4.500000  2.796000e+03\n",
       "max       175.000000    NaN  354718.000000      5.000000  1.252743e+06"
      ]
     },
     "execution_count": 63,
     "metadata": {},
     "output_type": "execute_result"
    }
   ],
   "source": [
    "df.describe()"
   ]
  },
  {
   "cell_type": "code",
   "execution_count": 64,
   "metadata": {},
   "outputs": [
    {
     "data": {
      "text/plain": [
       "0        22.0\n",
       "1        44.0\n",
       "2        55.0\n",
       "3        63.0\n",
       "4        34.0\n",
       "         ... \n",
       "44060     1.0\n",
       "44061     0.0\n",
       "44062     1.0\n",
       "44063     1.0\n",
       "44064     3.0\n",
       "Name: Lecture_Hours, Length: 44065, dtype: float64"
      ]
     },
     "execution_count": 64,
     "metadata": {},
     "output_type": "execute_result"
    }
   ],
   "source": [
    "df['Star'].fillna(0)\n",
    "df['Lecture_Hours'].fillna(0)"
   ]
  },
  {
   "cell_type": "code",
   "execution_count": 65,
   "metadata": {},
   "outputs": [],
   "source": [
    "df['Best_Seller'].fillna('Not_Best_Seller', inplace=True)"
   ]
  },
  {
   "cell_type": "code",
   "execution_count": 96,
   "metadata": {},
   "outputs": [
    {
     "data": {
      "text/plain": [
       "<matplotlib.axes._subplots.AxesSubplot at 0x205b4c7d7c8>"
      ]
     },
     "execution_count": 96,
     "metadata": {},
     "output_type": "execute_result"
    },
    {
     "data": {
      "image/png": "[encoded data removed]",
      "text/plain": [
       "<Figure size 864x432 with 1 Axes>"
      ]
     },
     "metadata": {},
     "output_type": "display_data"
    }
   ],
   "source": [
    "plt.figure(figsize=(12,6))\n",
    "df.groupby('Star')['Rating'].mean().sort_values(ascending=False).plot.bar(color='b')"
   ]
  },
  {
   "cell_type": "code",
   "execution_count": null,
   "metadata": {},
   "outputs": [],
   "source": [
    "#what is the avg duration of the courses"
   ]
  },
  {
   "cell_type": "code",
   "execution_count": 67,
   "metadata": {},
   "outputs": [
    {
     "data": {
      "text/plain": [
       "Text(0, 0.5, 'Rating')"
      ]
     },
     "execution_count": 67,
     "metadata": {},
     "output_type": "execute_result"
    },
    {
     "data": {
      "image/png": "[encoded data removed]",
      "text/plain": [
       "<Figure size 432x288 with 1 Axes>"
      ]
     },
     "metadata": {},
     "output_type": "display_data"
    }
   ],
   "source": [
    "plt.scatter(df['Star'], df['Rating'],color='turquoise')\n",
    "plt.xlabel('Star')\n",
    "plt.ylabel('Rating')\n",
    "#Around 150K rated the courses between 4-5 stars"
   ]
  },
  {
   "cell_type": "code",
   "execution_count": 89,
   "metadata": {},
   "outputs": [
    {
     "data": {
      "text/html": [
       "<div>\n",
       "<style scoped>\n",
       "    .dataframe tbody tr th:only-of-type {\n",
       "        vertical-align: middle;\n",
       "    }\n",
       "\n",
       "    .dataframe tbody tr th {\n",
       "        vertical-align: top;\n",
       "    }\n",
       "\n",
       "    .dataframe thead th {\n",
       "        text-align: right;\n",
       "    }\n",
       "</style>\n",
       "<table border=\"1\" class=\"dataframe\">\n",
       "  <thead>\n",
       "    <tr style=\"text-align: right;\">\n",
       "      <th></th>\n",
       "      <th>Best_Seller</th>\n",
       "      <th>Lecture_Hours</th>\n",
       "    </tr>\n",
       "  </thead>\n",
       "  <tbody>\n",
       "    <tr>\n",
       "      <td>0</td>\n",
       "      <td>Bestseller</td>\n",
       "      <td>7.933107</td>\n",
       "    </tr>\n",
       "    <tr>\n",
       "      <td>1</td>\n",
       "      <td>Not_Best_Seller</td>\n",
       "      <td>4.539281</td>\n",
       "    </tr>\n",
       "  </tbody>\n",
       "</table>\n",
       "</div>"
      ],
      "text/plain": [
       "       Best_Seller  Lecture_Hours\n",
       "0       Bestseller       7.933107\n",
       "1  Not_Best_Seller       4.539281"
      ]
     },
     "execution_count": 89,
     "metadata": {},
     "output_type": "execute_result"
    }
   ],
   "source": [
    "#are the courses with more lecture hours the best sellers?\n",
    "Lect_hrs=df.groupby('Best_Seller')['Lecture_Hours'].mean().to_frame().reset_index().sort_values(by='Lecture_Hours', ascending=False)\n",
    "Lect_hrs=Lect_hrs.iloc[:20,] \n",
    "Lect_hrs"
   ]
  },
  {
   "cell_type": "code",
   "execution_count": 90,
   "metadata": {},
   "outputs": [
    {
     "data": {
      "text/plain": [
       "<matplotlib.axes._subplots.AxesSubplot at 0x205b3f8b988>"
      ]
     },
     "execution_count": 90,
     "metadata": {},
     "output_type": "execute_result"
    },
    {
     "data": {
      "image/png": "[encoded data removed]",
      "text/plain": [
       "<Figure size 432x288 with 1 Axes>"
      ]
     },
     "metadata": {},
     "output_type": "display_data"
    }
   ],
   "source": [
    "Lect_hrs.plot.bar(x='Best_Seller', y='Lecture_Hours', color='lightblue')"
   ]
  },
  {
   "cell_type": "code",
   "execution_count": 68,
   "metadata": {},
   "outputs": [
    {
     "data": {
      "text/html": [
       "<div>\n",
       "<style scoped>\n",
       "    .dataframe tbody tr th:only-of-type {\n",
       "        vertical-align: middle;\n",
       "    }\n",
       "\n",
       "    .dataframe tbody tr th {\n",
       "        vertical-align: top;\n",
       "    }\n",
       "\n",
       "    .dataframe thead th {\n",
       "        text-align: right;\n",
       "    }\n",
       "</style>\n",
       "<table border=\"1\" class=\"dataframe\">\n",
       "  <thead>\n",
       "    <tr style=\"text-align: right;\">\n",
       "      <th></th>\n",
       "      <th>Sector</th>\n",
       "      <th>Students</th>\n",
       "    </tr>\n",
       "  </thead>\n",
       "  <tbody>\n",
       "    <tr>\n",
       "      <td>11</td>\n",
       "      <td>Development</td>\n",
       "      <td>83632773.0</td>\n",
       "    </tr>\n",
       "    <tr>\n",
       "      <td>29</td>\n",
       "      <td>IT &amp; Software</td>\n",
       "      <td>39619644.0</td>\n",
       "    </tr>\n",
       "    <tr>\n",
       "      <td>34</td>\n",
       "      <td>Marketing</td>\n",
       "      <td>26899585.0</td>\n",
       "    </tr>\n",
       "    <tr>\n",
       "      <td>50</td>\n",
       "      <td>Personal Development</td>\n",
       "      <td>16153389.0</td>\n",
       "    </tr>\n",
       "    <tr>\n",
       "      <td>19</td>\n",
       "      <td>Finance &amp; Accounting</td>\n",
       "      <td>11841809.0</td>\n",
       "    </tr>\n",
       "    <tr>\n",
       "      <td>28</td>\n",
       "      <td>Health &amp; Fitness</td>\n",
       "      <td>7647540.0</td>\n",
       "    </tr>\n",
       "    <tr>\n",
       "      <td>3</td>\n",
       "      <td>Business</td>\n",
       "      <td>1868451.0</td>\n",
       "    </tr>\n",
       "    <tr>\n",
       "      <td>33</td>\n",
       "      <td>Lifestyle</td>\n",
       "      <td>1390814.0</td>\n",
       "    </tr>\n",
       "    <tr>\n",
       "      <td>30</td>\n",
       "      <td>Investing &amp; Trading</td>\n",
       "      <td>357994.0</td>\n",
       "    </tr>\n",
       "    <tr>\n",
       "      <td>44</td>\n",
       "      <td>Office Productivity</td>\n",
       "      <td>221309.0</td>\n",
       "    </tr>\n",
       "  </tbody>\n",
       "</table>\n",
       "</div>"
      ],
      "text/plain": [
       "                   Sector    Students\n",
       "11           Development   83632773.0\n",
       "29         IT & Software   39619644.0\n",
       "34             Marketing   26899585.0\n",
       "50  Personal Development   16153389.0\n",
       "19  Finance & Accounting   11841809.0\n",
       "28      Health & Fitness    7647540.0\n",
       "3               Business    1868451.0\n",
       "33             Lifestyle    1390814.0\n",
       "30   Investing & Trading     357994.0\n",
       "44   Office Productivity     221309.0"
      ]
     },
     "execution_count": 68,
     "metadata": {},
     "output_type": "execute_result"
    }
   ],
   "source": [
    "Top_Sector=df.groupby('Sector')['Students'].sum().to_frame().reset_index().sort_values(by='Students', ascending=False)\n",
    "Top_Sector=Top_Sector.iloc[:10,] \n",
    "Top_Sector"
   ]
  },
  {
   "cell_type": "code",
   "execution_count": 69,
   "metadata": {},
   "outputs": [
    {
     "data": {
      "text/plain": [
       "<matplotlib.axes._subplots.AxesSubplot at 0x205bcf6bec8>"
      ]
     },
     "execution_count": 69,
     "metadata": {},
     "output_type": "execute_result"
    },
    {
     "data": {
      "image/png": "[encoded data removed]",
      "text/plain": [
       "<Figure size 432x288 with 1 Axes>"
      ]
     },
     "metadata": {},
     "output_type": "display_data"
    }
   ],
   "source": [
    "Top_Sector.plot.bar(x='Sector', y='Students')"
   ]
  },
  {
   "cell_type": "code",
   "execution_count": 70,
   "metadata": {},
   "outputs": [
    {
     "data": {
      "text/html": [
       "<div>\n",
       "<style scoped>\n",
       "    .dataframe tbody tr th:only-of-type {\n",
       "        vertical-align: middle;\n",
       "    }\n",
       "\n",
       "    .dataframe tbody tr th {\n",
       "        vertical-align: top;\n",
       "    }\n",
       "\n",
       "    .dataframe thead th {\n",
       "        text-align: right;\n",
       "    }\n",
       "</style>\n",
       "<table border=\"1\" class=\"dataframe\">\n",
       "  <thead>\n",
       "    <tr style=\"text-align: right;\">\n",
       "      <th></th>\n",
       "      <th>Field</th>\n",
       "      <th>Students</th>\n",
       "    </tr>\n",
       "  </thead>\n",
       "  <tbody>\n",
       "    <tr>\n",
       "      <td>241</td>\n",
       "      <td>Web Development</td>\n",
       "      <td>25945982.0</td>\n",
       "    </tr>\n",
       "    <tr>\n",
       "      <td>190</td>\n",
       "      <td>Programming Languages</td>\n",
       "      <td>22817631.0</td>\n",
       "    </tr>\n",
       "    <tr>\n",
       "      <td>105</td>\n",
       "      <td>IT Certification</td>\n",
       "      <td>11924777.0</td>\n",
       "    </tr>\n",
       "    <tr>\n",
       "      <td>170</td>\n",
       "      <td>Other IT &amp; Software</td>\n",
       "      <td>11579954.0</td>\n",
       "    </tr>\n",
       "    <tr>\n",
       "      <td>155</td>\n",
       "      <td>Network &amp; Security</td>\n",
       "      <td>10550146.0</td>\n",
       "    </tr>\n",
       "    <tr>\n",
       "      <td>44</td>\n",
       "      <td>Data Science</td>\n",
       "      <td>8612295.0</td>\n",
       "    </tr>\n",
       "    <tr>\n",
       "      <td>147</td>\n",
       "      <td>Mobile Development</td>\n",
       "      <td>5620412.0</td>\n",
       "    </tr>\n",
       "    <tr>\n",
       "      <td>217</td>\n",
       "      <td>Social Media Marketing</td>\n",
       "      <td>5338540.0</td>\n",
       "    </tr>\n",
       "    <tr>\n",
       "      <td>114</td>\n",
       "      <td>Investing &amp; Trading</td>\n",
       "      <td>4949349.0</td>\n",
       "    </tr>\n",
       "    <tr>\n",
       "      <td>240</td>\n",
       "      <td>Web Development</td>\n",
       "      <td>4413096.0</td>\n",
       "    </tr>\n",
       "  </tbody>\n",
       "</table>\n",
       "</div>"
      ],
      "text/plain": [
       "                        Field    Students\n",
       "241          Web Development   25945982.0\n",
       "190    Programming Languages   22817631.0\n",
       "105         IT Certification   11924777.0\n",
       "170      Other IT & Software   11579954.0\n",
       "155       Network & Security   10550146.0\n",
       "44              Data Science    8612295.0\n",
       "147       Mobile Development    5620412.0\n",
       "217   Social Media Marketing    5338540.0\n",
       "114      Investing & Trading    4949349.0\n",
       "240           Web Development   4413096.0"
      ]
     },
     "execution_count": 70,
     "metadata": {},
     "output_type": "execute_result"
    }
   ],
   "source": [
    "Top_fields=df.groupby('Field')['Students'].sum().to_frame().reset_index().sort_values(by='Students', ascending=False)\n",
    "Top_fields=Top_fields.iloc[:10,] \n",
    "Top_fields"
   ]
  },
  {
   "cell_type": "code",
   "execution_count": 71,
   "metadata": {},
   "outputs": [
    {
     "data": {
      "text/plain": [
       "<matplotlib.axes._subplots.AxesSubplot at 0x205bcefea88>"
      ]
     },
     "execution_count": 71,
     "metadata": {},
     "output_type": "execute_result"
    },
    {
     "data": {
      "image/png": "[encoded data removed]",
      "text/plain": [
       "<Figure size 432x288 with 1 Axes>"
      ]
     },
     "metadata": {},
     "output_type": "display_data"
    }
   ],
   "source": [
    "Top_fields.plot.bar(x='Field', y='Students',color='purple')"
   ]
  },
  {
   "cell_type": "code",
   "execution_count": 72,
   "metadata": {},
   "outputs": [
    {
     "data": {
      "text/html": [
       "<div>\n",
       "<style scoped>\n",
       "    .dataframe tbody tr th:only-of-type {\n",
       "        vertical-align: middle;\n",
       "    }\n",
       "\n",
       "    .dataframe tbody tr th {\n",
       "        vertical-align: top;\n",
       "    }\n",
       "\n",
       "    .dataframe thead th {\n",
       "        text-align: right;\n",
       "    }\n",
       "</style>\n",
       "<table border=\"1\" class=\"dataframe\">\n",
       "  <thead>\n",
       "    <tr style=\"text-align: right;\">\n",
       "      <th></th>\n",
       "      <th>Language</th>\n",
       "      <th>Students</th>\n",
       "    </tr>\n",
       "  </thead>\n",
       "  <tbody>\n",
       "    <tr>\n",
       "      <td>1994</td>\n",
       "      <td>Python</td>\n",
       "      <td>13458947.0</td>\n",
       "    </tr>\n",
       "    <tr>\n",
       "      <td>855</td>\n",
       "      <td>Ethical Hacking</td>\n",
       "      <td>4703149.0</td>\n",
       "    </tr>\n",
       "    <tr>\n",
       "      <td>1288</td>\n",
       "      <td>JavaScript</td>\n",
       "      <td>4408772.0</td>\n",
       "    </tr>\n",
       "    <tr>\n",
       "      <td>1274</td>\n",
       "      <td>Java</td>\n",
       "      <td>3498480.0</td>\n",
       "    </tr>\n",
       "    <tr>\n",
       "      <td>34</td>\n",
       "      <td>AWS Certification</td>\n",
       "      <td>3019988.0</td>\n",
       "    </tr>\n",
       "    <tr>\n",
       "      <td>2169</td>\n",
       "      <td>SEO</td>\n",
       "      <td>3002865.0</td>\n",
       "    </tr>\n",
       "    <tr>\n",
       "      <td>1432</td>\n",
       "      <td>Machine Learning</td>\n",
       "      <td>2354390.0</td>\n",
       "    </tr>\n",
       "    <tr>\n",
       "      <td>394</td>\n",
       "      <td>CSS</td>\n",
       "      <td>2201441.0</td>\n",
       "    </tr>\n",
       "    <tr>\n",
       "      <td>138</td>\n",
       "      <td>Android Development</td>\n",
       "      <td>2005567.0</td>\n",
       "    </tr>\n",
       "    <tr>\n",
       "      <td>2043</td>\n",
       "      <td>React</td>\n",
       "      <td>1826998.0</td>\n",
       "    </tr>\n",
       "  </tbody>\n",
       "</table>\n",
       "</div>"
      ],
      "text/plain": [
       "                  Language    Students\n",
       "1994                Python  13458947.0\n",
       "855        Ethical Hacking   4703149.0\n",
       "1288            JavaScript   4408772.0\n",
       "1274                  Java   3498480.0\n",
       "34       AWS Certification   3019988.0\n",
       "2169                   SEO   3002865.0\n",
       "1432      Machine Learning   2354390.0\n",
       "394                    CSS   2201441.0\n",
       "138    Android Development   2005567.0\n",
       "2043                 React   1826998.0"
      ]
     },
     "execution_count": 72,
     "metadata": {},
     "output_type": "execute_result"
    }
   ],
   "source": [
    "Top_Language=df.groupby('Language')['Students'].sum().to_frame().reset_index().sort_values(by='Students', ascending=False)\n",
    "Top_Language=Top_Language.iloc[:10,] \n",
    "Top_Language\n"
   ]
  },
  {
   "cell_type": "code",
   "execution_count": 73,
   "metadata": {},
   "outputs": [
    {
     "data": {
      "text/plain": [
       "<matplotlib.axes._subplots.AxesSubplot at 0x205bce3e648>"
      ]
     },
     "execution_count": 73,
     "metadata": {},
     "output_type": "execute_result"
    },
    {
     "data": {
      "image/png": "[encoded data removed]",
      "text/plain": [
       "<Figure size 432x288 with 1 Axes>"
      ]
     },
     "metadata": {},
     "output_type": "display_data"
    }
   ],
   "source": [
    "Top_Language.plot.bar(x='Language', y='Students',color='orange')"
   ]
  },
  {
   "cell_type": "code",
   "execution_count": 92,
   "metadata": {},
   "outputs": [
    {
     "data": {
      "text/plain": [
       "<seaborn.axisgrid.FacetGrid at 0x205b40ab348>"
      ]
     },
     "execution_count": 92,
     "metadata": {},
     "output_type": "execute_result"
    },
    {
     "data": {
      "image/png": "[encoded data removed]",
      "text/plain": [
       "<Figure size 576x288 with 2 Axes>"
      ]
     },
     "metadata": {},
     "output_type": "display_data"
    }
   ],
   "source": [
    "df_best = df[['Best_Seller', 'Lecture_Hours']]\n",
    "SexGrid = sns.FacetGrid(df_best, col='Best_Seller', hue=\"Best_Seller\", palette=\"Set1\", height=4)\n",
    "SexGrid.map(sns.distplot, \"Lecture_Hours\")\n",
    "# are the best sellers the more rated courses? yes if more students rated the courses, are the best sellers."
   ]
  },
  {
   "cell_type": "code",
   "execution_count": 74,
   "metadata": {},
   "outputs": [
    {
     "data": {
      "text/html": [
       "<div>\n",
       "<style scoped>\n",
       "    .dataframe tbody tr th:only-of-type {\n",
       "        vertical-align: middle;\n",
       "    }\n",
       "\n",
       "    .dataframe tbody tr th {\n",
       "        vertical-align: top;\n",
       "    }\n",
       "\n",
       "    .dataframe thead th {\n",
       "        text-align: right;\n",
       "    }\n",
       "</style>\n",
       "<table border=\"1\" class=\"dataframe\">\n",
       "  <thead>\n",
       "    <tr style=\"text-align: right;\">\n",
       "      <th></th>\n",
       "      <th>Language</th>\n",
       "      <th>Rating</th>\n",
       "    </tr>\n",
       "  </thead>\n",
       "  <tbody>\n",
       "    <tr>\n",
       "      <td>1994</td>\n",
       "      <td>Python</td>\n",
       "      <td>1256685</td>\n",
       "    </tr>\n",
       "    <tr>\n",
       "      <td>34</td>\n",
       "      <td>AWS Certification</td>\n",
       "      <td>555301</td>\n",
       "    </tr>\n",
       "    <tr>\n",
       "      <td>1274</td>\n",
       "      <td>Java</td>\n",
       "      <td>360497</td>\n",
       "    </tr>\n",
       "    <tr>\n",
       "      <td>1288</td>\n",
       "      <td>JavaScript</td>\n",
       "      <td>337151</td>\n",
       "    </tr>\n",
       "    <tr>\n",
       "      <td>2043</td>\n",
       "      <td>React</td>\n",
       "      <td>290421</td>\n",
       "    </tr>\n",
       "    <tr>\n",
       "      <td>855</td>\n",
       "      <td>Ethical Hacking</td>\n",
       "      <td>221663</td>\n",
       "    </tr>\n",
       "    <tr>\n",
       "      <td>146</td>\n",
       "      <td>Angular</td>\n",
       "      <td>197145</td>\n",
       "    </tr>\n",
       "    <tr>\n",
       "      <td>1432</td>\n",
       "      <td>Machine Learning</td>\n",
       "      <td>195871</td>\n",
       "    </tr>\n",
       "    <tr>\n",
       "      <td>394</td>\n",
       "      <td>CSS</td>\n",
       "      <td>159231</td>\n",
       "    </tr>\n",
       "    <tr>\n",
       "      <td>2169</td>\n",
       "      <td>SEO</td>\n",
       "      <td>155842</td>\n",
       "    </tr>\n",
       "  </tbody>\n",
       "</table>\n",
       "</div>"
      ],
      "text/plain": [
       "                Language   Rating\n",
       "1994              Python  1256685\n",
       "34     AWS Certification   555301\n",
       "1274                Java   360497\n",
       "1288          JavaScript   337151\n",
       "2043               React   290421\n",
       "855      Ethical Hacking   221663\n",
       "146              Angular   197145\n",
       "1432    Machine Learning   195871\n",
       "394                  CSS   159231\n",
       "2169                 SEO   155842"
      ]
     },
     "execution_count": 74,
     "metadata": {},
     "output_type": "execute_result"
    }
   ],
   "source": [
    "Top_ratings=df.groupby('Language')['Rating'].sum().to_frame().reset_index().sort_values(by='Rating', ascending=False)\n",
    "Top_ratings=Top_ratings.iloc[:10,] \n",
    "Top_ratings\n"
   ]
  },
  {
   "cell_type": "code",
   "execution_count": 75,
   "metadata": {},
   "outputs": [
    {
     "data": {
      "text/plain": [
       "<matplotlib.axes._subplots.AxesSubplot at 0x205bb4cdcc8>"
      ]
     },
     "execution_count": 75,
     "metadata": {},
     "output_type": "execute_result"
    },
    {
     "data": {
      "image/png": "[encoded data removed]",
      "text/plain": [
       "<Figure size 432x288 with 1 Axes>"
      ]
     },
     "metadata": {},
     "output_type": "display_data"
    }
   ],
   "source": [
    "Top_ratings.plot.bar(x='Language', y='Rating',color='green')\n",
    "#from the graph below we see that highest rated courses offered in udemy are in finance and technology "
   ]
  },
  {
   "cell_type": "code",
   "execution_count": 76,
   "metadata": {},
   "outputs": [
    {
     "data": {
      "text/html": [
       "<div>\n",
       "<style scoped>\n",
       "    .dataframe tbody tr th:only-of-type {\n",
       "        vertical-align: middle;\n",
       "    }\n",
       "\n",
       "    .dataframe tbody tr th {\n",
       "        vertical-align: top;\n",
       "    }\n",
       "\n",
       "    .dataframe thead th {\n",
       "        text-align: right;\n",
       "    }\n",
       "</style>\n",
       "<table border=\"1\" class=\"dataframe\">\n",
       "  <thead>\n",
       "    <tr style=\"text-align: right;\">\n",
       "      <th></th>\n",
       "      <th>Language</th>\n",
       "      <th>Star</th>\n",
       "    </tr>\n",
       "  </thead>\n",
       "  <tbody>\n",
       "    <tr>\n",
       "      <td>1994</td>\n",
       "      <td>Python</td>\n",
       "      <td>2587.7</td>\n",
       "    </tr>\n",
       "    <tr>\n",
       "      <td>1288</td>\n",
       "      <td>JavaScript</td>\n",
       "      <td>1568.9</td>\n",
       "    </tr>\n",
       "    <tr>\n",
       "      <td>2169</td>\n",
       "      <td>SEO</td>\n",
       "      <td>1536.7</td>\n",
       "    </tr>\n",
       "    <tr>\n",
       "      <td>1461</td>\n",
       "      <td>Marketing Strategy</td>\n",
       "      <td>1373.4</td>\n",
       "    </tr>\n",
       "    <tr>\n",
       "      <td>1274</td>\n",
       "      <td>Java</td>\n",
       "      <td>1269.8</td>\n",
       "    </tr>\n",
       "    <tr>\n",
       "      <td>887</td>\n",
       "      <td>Facebook Marketing</td>\n",
       "      <td>1240.8</td>\n",
       "    </tr>\n",
       "    <tr>\n",
       "      <td>1252</td>\n",
       "      <td>Investing</td>\n",
       "      <td>1098.7</td>\n",
       "    </tr>\n",
       "    <tr>\n",
       "      <td>948</td>\n",
       "      <td>Forex</td>\n",
       "      <td>1068.2</td>\n",
       "    </tr>\n",
       "    <tr>\n",
       "      <td>1859</td>\n",
       "      <td>Personal Finance</td>\n",
       "      <td>1062.3</td>\n",
       "    </tr>\n",
       "    <tr>\n",
       "      <td>62</td>\n",
       "      <td>Accounting</td>\n",
       "      <td>1052.8</td>\n",
       "    </tr>\n",
       "  </tbody>\n",
       "</table>\n",
       "</div>"
      ],
      "text/plain": [
       "                 Language    Star\n",
       "1994               Python  2587.7\n",
       "1288           JavaScript  1568.9\n",
       "2169                  SEO  1536.7\n",
       "1461   Marketing Strategy  1373.4\n",
       "1274                 Java  1269.8\n",
       "887    Facebook Marketing  1240.8\n",
       "1252            Investing  1098.7\n",
       "948                 Forex  1068.2\n",
       "1859     Personal Finance  1062.3\n",
       "62             Accounting  1052.8"
      ]
     },
     "execution_count": 76,
     "metadata": {},
     "output_type": "execute_result"
    }
   ],
   "source": [
    "Top_Star=df.groupby('Language')['Star'].sum().to_frame().reset_index().sort_values(by='Star', ascending=False)\n",
    "Top_Star=Top_Star.iloc[:10,] \n",
    "Top_Star\n"
   ]
  },
  {
   "cell_type": "code",
   "execution_count": 77,
   "metadata": {},
   "outputs": [
    {
     "data": {
      "text/plain": [
       "<matplotlib.axes._subplots.AxesSubplot at 0x205bb4690c8>"
      ]
     },
     "execution_count": 77,
     "metadata": {},
     "output_type": "execute_result"
    },
    {
     "data": {
      "image/png": "[encoded data removed]",
      "text/plain": [
       "<Figure size 432x288 with 1 Axes>"
      ]
     },
     "metadata": {},
     "output_type": "display_data"
    }
   ],
   "source": [
    "Top_Star.plot.bar(x='Language', y='Star', color='skyblue')"
   ]
  },
  {
   "cell_type": "code",
   "execution_count": 78,
   "metadata": {},
   "outputs": [
    {
     "data": {
      "text/plain": [
       "<matplotlib.axes._subplots.AxesSubplot at 0x205bba4cc88>"
      ]
     },
     "execution_count": 78,
     "metadata": {},
     "output_type": "execute_result"
    },
    {
     "data": {
      "image/png": "[encoded data removed]",
      "text/plain": [
       "<Figure size 432x288 with 1 Axes>"
      ]
     },
     "metadata": {},
     "output_type": "display_data"
    }
   ],
   "source": [
    "df_score = df[['Best_Seller', 'Star']]\n",
    "import seaborn as sns\n",
    "sns.boxplot(x='Best_Seller', y='Star', data=df_score)"
   ]
  }
 ],
 "metadata": {
  "kernelspec": {
   "display_name": "Python 3",
   "language": "python",
   "name": "python3"
  },
  "language_info": {
   "codemirror_mode": {
    "name": "ipython",
    "version": 3
   },
   "file_extension": ".py",
   "mimetype": "text/x-python",
   "name": "python",
   "nbconvert_exporter": "python",
   "pygments_lexer": "ipython3",
   "version": "3.7.4"
  }
 },
 "nbformat": 4,
 "nbformat_minor": 2
}
